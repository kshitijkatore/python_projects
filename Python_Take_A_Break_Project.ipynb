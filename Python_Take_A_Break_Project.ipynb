{
  "nbformat": 4,
  "nbformat_minor": 0,
  "metadata": {
    "colab": {
      "provenance": [],
      "authorship_tag": "ABX9TyOQEOkvYFTjbSxRHEdp25pz",
      "include_colab_link": true
    },
    "kernelspec": {
      "name": "python3",
      "display_name": "Python 3"
    },
    "language_info": {
      "name": "python"
    }
  },
  "cells": [
    {
      "cell_type": "markdown",
      "metadata": {
        "id": "view-in-github",
        "colab_type": "text"
      },
      "source": [
        "<a href=\"https://colab.research.google.com/github/kshitijkatore/python_projects/blob/main/Python_Take_A_Break_Project.ipynb\" target=\"_parent\"><img src=\"https://colab.research.google.com/assets/colab-badge.svg\" alt=\"Open In Colab\"/></a>"
      ]
    },
    {
      "cell_type": "markdown",
      "source": [
        "# Python Take A Break Project"
      ],
      "metadata": {
        "id": "oYQ_C_bxmXsc"
      }
    },
    {
      "cell_type": "code",
      "execution_count": null,
      "metadata": {
        "id": "_pb5CMfAllg0"
      },
      "outputs": [],
      "source": [
        "import time\n",
        "import webbrowser\n",
        "\n",
        "breaks = 3\n",
        "for i in range(breaks):\n",
        "  time.sleep(2*60*60)\n",
        "  webbrowser.open('https://www.youtube.com/watch?v=pRQ7xIKlrho&list=PL7zl8TDRnbulR0Uy6jEOG3tDJqJHxPQNl&index=12',new = 2)"
      ]
    }
  ]
}