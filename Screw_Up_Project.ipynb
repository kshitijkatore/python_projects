{
  "nbformat": 4,
  "nbformat_minor": 0,
  "metadata": {
    "colab": {
      "provenance": [],
      "authorship_tag": "ABX9TyM8RGHUfFb75egzL/8cw8u8",
      "include_colab_link": true
    },
    "kernelspec": {
      "name": "python3",
      "display_name": "Python 3"
    },
    "language_info": {
      "name": "python"
    }
  },
  "cells": [
    {
      "cell_type": "markdown",
      "metadata": {
        "id": "view-in-github",
        "colab_type": "text"
      },
      "source": [
        "<a href=\"https://colab.research.google.com/github/kshitijkatore/python_projects/blob/main/Screw_Up_Project.ipynb\" target=\"_parent\"><img src=\"https://colab.research.google.com/assets/colab-badge.svg\" alt=\"Open In Colab\"/></a>"
      ]
    },
    {
      "cell_type": "code",
      "execution_count": 5,
      "metadata": {
        "id": "oI1M3I_hSCaU"
      },
      "outputs": [],
      "source": [
        "\n",
        "import rotatescreen\n",
        "import time\n",
        "\n",
        "screen = rotatescreen.get_primary_display()\n",
        "j = int(input(\"Enter the number how many time rotate :\"))\n",
        "for i in range(j):\n",
        "    time.sleep(2)\n",
        "    screen.rotate_to(i*90 % 360)"
      ]
    }
  ]
}